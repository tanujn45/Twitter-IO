{
  "cells": [
    {
      "cell_type": "markdown",
      "metadata": {
        "id": "view-in-github",
        "colab_type": "text"
      },
      "source": [
        "<a href=\"https://colab.research.google.com/github/tanujn45/Twitter-IO/blob/main/SP_Text_Detection.ipynb\" target=\"_parent\"><img src=\"https://colab.research.google.com/assets/colab-badge.svg\" alt=\"Open In Colab\"/></a>"
      ]
    },
    {
      "cell_type": "markdown",
      "source": [
        "Steps for easy understanding\n",
        "\n",
        "1.   Import all modules\n",
        "2.   Retrieve all tweetIds from csv file\n",
        "3.   Load EAST model\n",
        "4.   Core function\n",
        "    *   Retrieve image from the tweetId\n",
        "    *   Prepare the Image for EAST model\n",
        "    *   Pass through EAST and determine if there is text\n",
        "    *   If text present pass through Tesserract\n",
        "    *   File the text in a txt file and store it locally\n",
        "     \n",
        "\n",
        "\n",
        "\n",
        "\n",
        "\n"
      ],
      "metadata": {
        "id": "ZZ3Ksct6-nSM"
      }
    },
    {
      "cell_type": "code",
      "source": [
        "!jupyter contrib nbextension install --user\n",
        "!jupyter nbextension enable hinterland/hinterland"
      ],
      "metadata": {
        "colab": {
          "base_uri": "https://localhost:8080/"
        },
        "id": "FS7fCHfjuXSL",
        "outputId": "093b17a4-a685-465d-e3ac-bd59d55e8402"
      },
      "execution_count": null,
      "outputs": [
        {
          "output_type": "stream",
          "name": "stdout",
          "text": [
            "usage: jupyter [-h] [--version] [--config-dir] [--data-dir] [--runtime-dir]\n",
            "               [--paths] [--json] [--debug]\n",
            "               [subcommand]\n",
            "\n",
            "Jupyter: Interactive Computing\n",
            "\n",
            "positional arguments:\n",
            "  subcommand     the subcommand to launch\n",
            "\n",
            "optional arguments:\n",
            "  -h, --help     show this help message and exit\n",
            "  --version      show the versions of core jupyter packages and exit\n",
            "  --config-dir   show Jupyter config dir\n",
            "  --data-dir     show Jupyter data dir\n",
            "  --runtime-dir  show Jupyter runtime dir\n",
            "  --paths        show all Jupyter paths. Add --json for machine-readable\n",
            "                 format.\n",
            "  --json         output paths as machine-readable json\n",
            "  --debug        output debug information about paths\n",
            "\n",
            "Available subcommands: bundlerextension console execute kernel kernelspec\n",
            "migrate nbconvert nbextension notebook qtconsole run serverextension\n",
            "troubleshoot trust\n",
            "\n",
            "Jupyter command `jupyter-contrib` not found.\n",
            "Enabling notebook extension hinterland/hinterland...\n",
            "Paths used for configuration of notebook: \n",
            "    \t/root/.jupyter/nbconfig/notebook.json\n",
            "      - Validating: problems found:\n",
            "        - require? \u001b[31m X\u001b[0m hinterland/hinterland\n",
            "Paths used for configuration of notebook: \n",
            "    \t/root/.jupyter/nbconfig/notebook.json\n"
          ]
        }
      ]
    },
    {
      "cell_type": "code",
      "execution_count": null,
      "metadata": {
        "colab": {
          "base_uri": "https://localhost:8080/"
        },
        "id": "7vQk44ZXjXag",
        "outputId": "00797fae-8aaf-42ac-f537-91dfd0772580"
      },
      "outputs": [
        {
          "output_type": "stream",
          "name": "stdout",
          "text": [
            "4.1.2\n"
          ]
        }
      ],
      "source": [
        "# Step 1: Importing all modules\n",
        "import cv2\n",
        "print(cv2.__version__)"
      ]
    },
    {
      "cell_type": "code",
      "source": [
        "!pip install pytesseract\n",
        "!sudo apt install tesseract-ocr"
      ],
      "metadata": {
        "colab": {
          "base_uri": "https://localhost:8080/"
        },
        "id": "Vl1NsWyxjyPY",
        "outputId": "4945e7fa-4cd7-477c-e226-1f5361081a03"
      },
      "execution_count": null,
      "outputs": [
        {
          "output_type": "stream",
          "name": "stdout",
          "text": [
            "Looking in indexes: https://pypi.org/simple, https://us-python.pkg.dev/colab-wheels/public/simple/\n",
            "Requirement already satisfied: pytesseract in /usr/local/lib/python3.7/dist-packages (0.3.9)\n",
            "Requirement already satisfied: packaging>=21.3 in /usr/local/lib/python3.7/dist-packages (from pytesseract) (21.3)\n",
            "Requirement already satisfied: Pillow>=8.0.0 in /usr/local/lib/python3.7/dist-packages (from pytesseract) (9.0.0)\n",
            "Requirement already satisfied: pyparsing!=3.0.5,>=2.0.2 in /usr/local/lib/python3.7/dist-packages (from packaging>=21.3->pytesseract) (3.0.9)\n",
            "Reading package lists... Done\n",
            "Building dependency tree       \n",
            "Reading state information... Done\n",
            "tesseract-ocr is already the newest version (4.00~git2288-10f4998a-2).\n",
            "The following package was automatically installed and is no longer required:\n",
            "  libnvidia-common-460\n",
            "Use 'sudo apt autoremove' to remove it.\n",
            "0 upgraded, 0 newly installed, 0 to remove and 49 not upgraded.\n"
          ]
        }
      ]
    },
    {
      "cell_type": "code",
      "source": [
        "!pip install Pillow==9.0.0"
      ],
      "metadata": {
        "colab": {
          "base_uri": "https://localhost:8080/"
        },
        "id": "ZwWjCpY1CL0F",
        "outputId": "32f8215c-01f5-461a-880b-a7349ff344f6"
      },
      "execution_count": null,
      "outputs": [
        {
          "output_type": "stream",
          "name": "stdout",
          "text": [
            "Looking in indexes: https://pypi.org/simple, https://us-python.pkg.dev/colab-wheels/public/simple/\n",
            "Requirement already satisfied: Pillow==9.0.0 in /usr/local/lib/python3.7/dist-packages (9.0.0)\n"
          ]
        }
      ]
    },
    {
      "cell_type": "code",
      "execution_count": null,
      "metadata": {
        "collapsed": true,
        "id": "nBd-IaptjXaj"
      },
      "outputs": [],
      "source": [
        "from imutils.object_detection import non_max_suppression\n",
        "from google.colab.patches import cv2_imshow\n",
        "import numpy as np\n",
        "import argparse\n",
        "import time\n",
        "import pytesseract\n",
        "import PIL\n",
        "import pandas as pd\n",
        "import tweepy as tw\n",
        "from skimage import io\n",
        "from matplotlib import pyplot as plt"
      ]
    },
    {
      "cell_type": "code",
      "source": [
        "# Step 2: Retrieve all tweetIds from csv file\n",
        "df = pd.read_csv('/content/tweetID.csv')\n",
        "tweetIds = df['tweet_id'].to_list()"
      ],
      "metadata": {
        "id": "HDm-oadX-CmL"
      },
      "execution_count": null,
      "outputs": []
    },
    {
      "cell_type": "code",
      "source": [
        "#Step 3: Loading EAST model and helper functions\n",
        "layerNames = [\n",
        "\t\"feature_fusion/Conv_7/Sigmoid\",\n",
        "\t\"feature_fusion/concat_3\"]\n",
        "\n",
        "min_confidence = 0.8\n",
        "\n",
        "def ocr_core(img):\n",
        "  text = pytesseract.image_to_string(img)\n",
        "  return text\n",
        "\n",
        "img = cv2.imread('imgpath')\n",
        "\n",
        "def get_grayscale(image):\n",
        "  return cv2.cvtColor(image, cv2.COLOR_BGR2GRAY)\n",
        "\n",
        "def remove_noise(image):\n",
        "  return cv2.medianBlur(image, 5)\n",
        "\n",
        "def thresholding(image):\n",
        "  return cv2.threshold(image, 0, 255, cv2.THRESH_BINARY + cv2.THRESH_OTSU)[1]\n",
        "\n",
        "def round32(x):\n",
        "  return (x+16) & ~31\n",
        "\n",
        "def ShowBoxes(boxes, rW, rH, orig):\n",
        "\tfor (startX, startY, endX, endY) in boxes:\n",
        "\t\tstartX = int(startX * rW)\n",
        "\t\tstartY = int(startY * rH)\n",
        "\t\tendX = int(endX * rW)\n",
        "\t\tendY = int(endY * rH)\n",
        "\t\tcv2.rectangle(orig, (startX, startY), (endX, endY), (0, 0, 255), 2)\n",
        "\tplt.imshow(orig)\n",
        "\n",
        "args = {\n",
        "#         'image' : './images/sign.jpg',\n",
        "#         'image' : './images/car_wash.png',\n",
        "#         'image' : './images/lebron_james.jpg',\n",
        "        'image' : './images/Screenshot from 2018-10-28 19-29-11.png',\n",
        "        'east' : '/content/frozen_east_text_detection.pb',\n",
        "        'min_confidence' : min_confidence,\n",
        "}\n",
        "\n",
        "print(\"loading EAST text detector...\")\n",
        "net = cv2.dnn.readNet(args['east'])"
      ],
      "metadata": {
        "colab": {
          "base_uri": "https://localhost:8080/"
        },
        "id": "ziC8TGN-AMiO",
        "outputId": "8e5386c1-8503-4747-cc30-ba2c74f809d4"
      },
      "execution_count": null,
      "outputs": [
        {
          "output_type": "stream",
          "name": "stdout",
          "text": [
            "loading EAST text detector...\n"
          ]
        }
      ]
    },
    {
      "cell_type": "code",
      "execution_count": null,
      "metadata": {
        "id": "ykuvLTQqjXan"
      },
      "outputs": [],
      "source": [
        "# Step 4: Core function\n",
        "def ImageToText(ImageUrl):\n",
        "  image = io.imread(ImageUrl)\n",
        "  plt.imshow(image)\n",
        "  orig = image.copy()\n",
        "\n",
        "  (H, W) = image.shape[:2]\n",
        "\n",
        "  tesseractOutputImage = np.zeros_like(orig)\n",
        "  (newW, newH) = (round32(W), round32(H))\n",
        "\n",
        "  rW = W / float(newW)\n",
        "  rH = H / float(newH)\n",
        "\n",
        "  image = cv2.resize(image, (round32(W), round32(H)))\n",
        "  (H, W) = image.shape[:2]\n",
        "\n",
        "  # plt.imshow(image, interpolation = 'nearest')\n",
        "  # plt.show()\n",
        "  # plt.imshow(orig)\n",
        "  # plt.show()\n",
        "\n",
        "  # blob = cv2.dnn.blobFromImage(image, 1.0, (W, H),\n",
        "\t# (123.68, 116.78, 103.94), swapRB=True, crop=False)\n",
        "  # start = time.time()\n",
        "  # net.setInput(blob)\n",
        "  # print('test')\n",
        "  # (scores, geometry) = net.forward(layerNames)\n",
        "  # end = time.time()\n",
        "  # print('test')\n",
        "  # # print(\"[INFO] text detection took {:.6f} seconds\".format(end - start))\n",
        "  # (numRows, numCols) = scores.shape[2:4]\n",
        "  # rects = []\n",
        "  # confidences = []\n",
        "  # print('test')\n",
        "  # for y in range(0, numRows):\n",
        "  #   scoresData = scores[0, 0, y]\n",
        "  #   xData0 = geometry[0, 0, y]\n",
        "  #   xData1 = geometry[0, 1, y]\n",
        "  #   xData2 = geometry[0, 2, y]\n",
        "  #   xData3 = geometry[0, 3, y]\n",
        "  #   anglesData = geometry[0, 4, y]\n",
        "\n",
        "  #   for x in range(0, numCols):\n",
        "  #     if scoresData[x] < min_confidence:\n",
        "  #       continue\n",
        "  #     (offsetX, offsetY) = (x * 4.0, y * 4.0)\n",
        "\n",
        "  #     angle = anglesData[x]\n",
        "  #     cos = np.cos(angle)\n",
        "  #     sin = np.sin(angle)\n",
        "\n",
        "  #     h = xData0[x] + xData2[x]\n",
        "  #     w = xData1[x] + xData3[x]\n",
        "\n",
        "  #     endX = int(offsetX + (cos * xData1[x]) + (sin * xData2[x]))\n",
        "  #     endY = int(offsetY - (sin * xData1[x]) + (cos * xData2[x]))\n",
        "  #     startX = int(endX - w)\n",
        "  #     startY = int(endY - h)\n",
        "\n",
        "  #     rects.append((startX, startY, endX, endY))\n",
        "  #     confidences.append(scoresData[x])\n",
        "\n",
        "  # # print(confidences)\n",
        "  # # print(rects)\n",
        "\n",
        "  # boxes = non_max_suppression(np.array(rects), probs=confidences)\n",
        "  boxes = [1]\n",
        "  if len(boxes) != 0:\n",
        "    img = orig\n",
        "    #img = get_grayscale(img)\n",
        "    #img = thresholding(img)\n",
        "    #img = remove_noise(img)\n",
        "    plt.imshow(img)\n",
        "    print('text')\n",
        "    print(ocr_core(img))\n",
        "    # origTesseract = orig.copy()\n",
        "    # for (startX, startY, endX, endY) in boxes:\n",
        "    #     startX = int(startX * rW)\n",
        "    #     startY = int(startY * rH)\n",
        "    #     endX = int(endX * rW)\n",
        "    #     endY = int(endY * rH)\n",
        "\n",
        "    #     extraPixelsX = 0.99\n",
        "    #     extraPixelsY = 0.90\n",
        "    #     croppedImage = origTesseract[int(startY * extraPixelsY):int(endY / extraPixelsY), int(startX * extraPixelsX):int(endX / extraPixelsX)]\n",
        "    #     config = ('-l eng --oem 3 --psm 6')\n",
        "    #     text = pytesseract.image_to_string(croppedImage, config = config).encode('utf-8')\n",
        "    #     print(startX, startY, endX, endY)\n",
        "    #     textScale = int((2.0 * (endX - startX) / 200.0) / (len(text)+0.002)*5)\n",
        "    #     textThickness = int(max(4*(endX-startX)/200/(len(text)+1)*4, 0))\n",
        "    #     print(\"Text Scale: \", textScale)\n",
        "    #     print(\"Text Thickness: \", textThickness)\n",
        "    #     cv2.putText(tesseractOutputImage, str(text), (startX, endY), cv2.FONT_HERSHEY_SIMPLEX, textScale, (0, 255, 0), textThickness, lineType = cv2.LINE_AA)\n",
        "    #     plt.imshow(croppedImage)\n",
        "    #     plt.show()\n",
        "    #     print(\"Text:\", str(text))\n",
        "\n",
        "    # plt.imshow(tesseractOutputImage)\n",
        "    # plt.show()\n",
        "    # cv2.imwrite(\"tesseract Detection-\"+str(min_confidence)+\"-\"+str(width)+\"-\"+str(height)+\".jpg\", tesseractOutputImage)\n",
        "\n",
        "    # for (startX, startY, endX, endY) in boxes:\n",
        "\n",
        "    #     startX = int(startX * rW)\n",
        "    #     startY = int(startY * rH)\n",
        "    #     endX = int(endX * rW)\n",
        "    #     endY = int(endY * rH)\n",
        "\n",
        "    # cv2.imwrite(\"Text Detection-\"+str(min_confidence)+\"-\"+str(width)+\"-\"+str(height)+\".jpg\", orig)\n",
        ""
      ]
    },
    {
      "cell_type": "code",
      "source": [
        "tweetUrls = [\n",
        "          'https://i.dailymail.co.uk/1s/2021/04/09/15/41546552-9454069-Waste_of_time_One_person_was_left_in_hysterics_after_suddenly_re-a-18_1617979357813.jpg'\n",
        "]\n",
        "\n",
        "\n",
        "for tweetUrl in tweetUrls:\n",
        "  ImageToText(tweetUrl)"
      ],
      "metadata": {
        "colab": {
          "base_uri": "https://localhost:8080/",
          "height": 539
        },
        "id": "ilrP4CD8Gzgm",
        "outputId": "66d5c0b4-54f3-45ed-a26a-2843f4019f73"
      },
      "execution_count": null,
      "outputs": [
        {
          "output_type": "stream",
          "name": "stdout",
          "text": [
            "text\n",
            " \n",
            "\n",
            "Text Message\n",
            "Today 3:19 PM\n",
            "\n",
            "Hi, this is Rob from Domino's\n",
            "(the App State store). You\n",
            "applied to work here before...\n",
            "would you be willing to talk\n",
            "with a manager about working\n",
            "\n",
            "lal=c-m nena\n",
            "\n",
            "Cte aera\n",
            "\f\n"
          ]
        },
        {
          "output_type": "display_data",
          "data": {
            "text/plain": [
              "<Figure size 540x252 with 1 Axes>"
            ],
            "image/png": "[encoded data removed]"
          },
          "metadata": {
            "needs_background": "light"
          }
        }
      ]
    },
    {
      "cell_type": "code",
      "source": [],
      "metadata": {
        "id": "bJSmNlP4vbgc"
      },
      "execution_count": null,
      "outputs": []
    }
  ],
  "metadata": {
    "kernelspec": {
      "display_name": "Python 2",
      "language": "python",
      "name": "python2"
    },
    "language_info": {
      "codemirror_mode": {
        "name": "ipython",
        "version": 2
      },
      "file_extension": ".py",
      "mimetype": "text/x-python",
      "name": "python",
      "nbconvert_exporter": "python",
      "pygments_lexer": "ipython2",
      "version": "2.7.15rc1"
    },
    "colab": {
      "provenance": [],
      "include_colab_link": true
    }
  },
  "nbformat": 4,
  "nbformat_minor": 0
}